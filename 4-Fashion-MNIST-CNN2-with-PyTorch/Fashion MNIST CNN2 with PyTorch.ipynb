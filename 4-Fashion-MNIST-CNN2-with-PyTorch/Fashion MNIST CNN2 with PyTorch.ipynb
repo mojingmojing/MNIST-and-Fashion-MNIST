{
 "cells": [
  {
   "cell_type": "markdown",
   "metadata": {},
   "source": [
    "# Fashion MNIST image recognition\n",
    "## Yijing Xiao\n",
    "\n",
    "## https://www.kaggle.com/zalando-research/fashionmnist"
   ]
  },
  {
   "cell_type": "markdown",
   "metadata": {},
   "source": [
    "I have tested my classic two layer convolutional neural network on fashion MNIST, and I also tried using cross validation with the model, which improves the accuracy quite a bit. \n",
    "\n",
    "In this post, I start modifying the model a little bit to make it work even better. "
   ]
  },
  {
   "cell_type": "code",
   "execution_count": 1,
   "metadata": {
    "collapsed": true
   },
   "outputs": [],
   "source": [
    "import numpy as np\n",
    "import pandas as pd\n",
    "%matplotlib inline\n",
    "import matplotlib.pyplot as plt\n",
    "import matplotlib.cm as cm\n",
    "import torch\n",
    "import torch.nn as nn\n",
    "import torch.nn.functional as F\n",
    "from torch.autograd import Variable"
   ]
  },
  {
   "cell_type": "markdown",
   "metadata": {},
   "source": [
    "- Data preparation"
   ]
  },
  {
   "cell_type": "code",
   "execution_count": 2,
   "metadata": {
    "collapsed": true,
    "scrolled": true
   },
   "outputs": [],
   "source": [
    "data = pd.read_csv(\"fashion-mnist_train.csv\")\n",
    "data.head()\n",
    "image_size = data.iloc[:, 1:].values.shape[1]\n",
    "image_width = image_height = np.ceil(np.sqrt(image_size)).astype(np.uint8)\n",
    "image_width\n",
    "num_data = data.shape[0]\n",
    "num_train_data = int(num_data * 0.9)\n",
    "train_data = data.iloc[:num_train_data]\n",
    "dev_data = data.iloc[num_train_data:]"
   ]
  },
  {
   "cell_type": "markdown",
   "metadata": {},
   "source": [
    "## Standard Convolutional Neural Network \n",
    "\n",
    "borrowed from https://github.com/pytorch/examples/blob/master/mnist/main.py\n"
   ]
  },
  {
   "cell_type": "code",
   "execution_count": 3,
   "metadata": {
    "collapsed": true
   },
   "outputs": [],
   "source": [
    "BATCH_SIZE = 32\n",
    "def eval(model, data):\n",
    "    '''\n",
    "        args:\n",
    "            data: 42000 * 785 matrix\n",
    "            \n",
    "    '''\n",
    "    model.eval()\n",
    "    correct_count = 0.\n",
    "    total_count = 0.\n",
    "    for i in range(0, data.shape[0], BATCH_SIZE):\n",
    "        batch_data = data.iloc[i:i+BATCH_SIZE, :].values\n",
    "        x = batch_data[:, 1:] # 32 * 784\n",
    "        y = batch_data[:, 0] # 32\n",
    "        x = Variable(torch.from_numpy(x), volatile=True).float()\n",
    "        y = Variable(torch.from_numpy(y), volatile=True)\n",
    "        pred = model(x)\n",
    "        loss = F.nll_loss(pred, y)\n",
    "        correct_count += torch.sum(torch.max(pred, 1)[1] == y).data[0]\n",
    "        total_count += batch_data.shape[0]\n",
    "    return correct_count, total_count\n",
    "        "
   ]
  },
  {
   "cell_type": "markdown",
   "metadata": {},
   "source": [
    "This time, I add some extra convolutional filters with size 3 and 4. The old filters of size 5 are still kept there. To feed the results of both convolutional filters into the next level, I concatenated the inner results. "
   ]
  },
  {
   "cell_type": "code",
   "execution_count": 8,
   "metadata": {
    "collapsed": true
   },
   "outputs": [],
   "source": [
    "# define a neural network, convolutional neural network\n",
    "class Net(nn.Module):\n",
    "    def __init__(self):\n",
    "        super(Net, self).__init__()\n",
    "        self.conv11 = nn.Conv2d(1, 10, kernel_size=5)\n",
    "        self.conv12 = nn.Conv2d(10, 20, kernel_size=5)\n",
    "        self.conv21 = nn.Conv2d(1, 10, kernel_size=3)\n",
    "        self.conv22 = nn.Conv2d(10, 20, kernel_size=4)\n",
    "        self.conv12_drop = nn.Dropout2d()\n",
    "        self.conv22_drop = nn.Dropout2d()\n",
    "        self.fc1 = nn.Linear(820, 100)\n",
    "        self.fc2 = nn.Linear(100, 10)\n",
    "\n",
    "    def forward(self, x):\n",
    "        x1 = x.view(x.size(0), 1, int(image_height), int(image_width)) # B * 1 * 28 * 28\n",
    "        x1 = F.relu(F.max_pool2d(self.conv11(x1), 2)) # B * 10 * 12 * 12\n",
    "        x1 = F.relu(F.max_pool2d(self.conv12_drop(self.conv12(x1)), 2)) # B * 20 * 4 * 4\n",
    "        x2 = x.view(x.size(0), 1, int(image_height), int(image_width)) # B * 1 * 28 * 28\n",
    "        x2 = F.relu(F.max_pool2d(self.conv21(x2), 2)) # B * 10 * 13 * 13\n",
    "        x2 = F.relu(F.max_pool2d(self.conv22_drop(self.conv22(x2)), 2)) # B * 20 * 5 * 5\n",
    "        \n",
    "        x1 = x1.view(-1, 320) \n",
    "        x2 = x2.view(-1, 500)\n",
    "        x = torch.cat([x1, x2], 1)\n",
    "        x = F.relu(self.fc1(x))\n",
    "        x = F.dropout(x, training=self.training)\n",
    "        x = self.fc2(x)\n",
    "        return F.log_softmax(x)\n",
    "\n",
    "# instantiate the model\n",
    "model = Net()"
   ]
  },
  {
   "cell_type": "code",
   "execution_count": 9,
   "metadata": {},
   "outputs": [
    {
     "name": "stdout",
     "output_type": "stream",
     "text": [
      "dev acc: 0.7813333333333333\n",
      "save the model\n",
      "dev acc: 0.7783333333333333\n",
      "dev acc: 0.794\n",
      "save the model\n",
      "dev acc: 0.7928333333333333\n",
      "dev acc: 0.8011666666666667\n",
      "save the model\n",
      "dev acc: 0.8033333333333333\n",
      "save the model\n",
      "dev acc: 0.8066666666666666\n",
      "save the model\n",
      "dev acc: 0.8051666666666667\n",
      "dev acc: 0.8143333333333334\n",
      "save the model\n",
      "dev acc: 0.7893333333333333\n",
      "dev acc: 0.8051666666666667\n",
      "dev acc: 0.8188333333333333\n",
      "save the model\n",
      "dev acc: 0.8233333333333334\n",
      "save the model\n",
      "dev acc: 0.819\n",
      "dev acc: 0.8148333333333333\n",
      "dev acc: 0.8251666666666667\n",
      "save the model\n",
      "dev acc: 0.82\n",
      "dev acc: 0.8263333333333334\n",
      "save the model\n",
      "dev acc: 0.8266666666666667\n",
      "save the model\n",
      "dev acc: 0.8271666666666667\n",
      "save the model\n"
     ]
    }
   ],
   "source": [
    "learning_rate = 0.005\n",
    "optimizer = torch.optim.Adam(model.parameters(), lr=learning_rate)\n",
    "best_acc = 0.\n",
    "# start training\n",
    "for epoch in range(20):\n",
    "    model.train()\n",
    "    for i in range(0, train_data.shape[0], BATCH_SIZE):\n",
    "        batch_data = train_data.iloc[i:i+BATCH_SIZE, :].values\n",
    "        x = batch_data[:, 1:] # 32 * 784\n",
    "        y = batch_data[:, 0] # 32\n",
    "        x = Variable(torch.from_numpy(x)).float()\n",
    "        y = Variable(torch.from_numpy(y))\n",
    "        pred = model(x)\n",
    "        optimizer.zero_grad()\n",
    "        loss = F.nll_loss(pred, y)\n",
    "        loss.backward()\n",
    "        optimizer.step()\n",
    "    correct_count, total_count = eval(model, dev_data)\n",
    "    acc = correct_count / total_count\n",
    "    print(\"dev acc: {}\".format(acc))\n",
    "    if acc > best_acc:\n",
    "        best_acc = acc\n",
    "        print(\"save the model\")\n",
    "        torch.save(model.state_dict(), \"model-experiment.th\")\n",
    "    else:\n",
    "        learning_rate *= 0.8\n",
    "        optimizer = torch.optim.Adam(model.parameters(), lr=learning_rate) "
   ]
  },
  {
   "cell_type": "code",
   "execution_count": 10,
   "metadata": {
    "scrolled": true
   },
   "outputs": [
    {
     "name": "stdout",
     "output_type": "stream",
     "text": [
      "test acc: 0.8296\n"
     ]
    }
   ],
   "source": [
    "model.load_state_dict(torch.load(\"model-experiment.th\"))\n",
    "test_data = pd.read_csv(\"fashion-mnist_test.csv\")\n",
    "correct_count, total_count = eval(model, test_data)\n",
    "print(\"test acc: {}\".format(correct_count/total_count))"
   ]
  },
  {
   "cell_type": "markdown",
   "metadata": {},
   "source": [
    "It is nice to see that the test results goes up compared to the previous network, which is not too surprising as we expand the network. "
   ]
  }
 ],
 "metadata": {
  "kernelspec": {
   "display_name": "Python 3",
   "language": "python",
   "name": "python3"
  },
  "language_info": {
   "codemirror_mode": {
    "name": "ipython",
    "version": 3
   },
   "file_extension": ".py",
   "mimetype": "text/x-python",
   "name": "python",
   "nbconvert_exporter": "python",
   "pygments_lexer": "ipython3",
   "version": "3.6.1"
  }
 },
 "nbformat": 4,
 "nbformat_minor": 2
}
