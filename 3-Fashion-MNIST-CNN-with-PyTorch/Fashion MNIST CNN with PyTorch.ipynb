{
 "cells": [
  {
   "cell_type": "markdown",
   "metadata": {},
   "source": [
    "# Fashion MNIST image recognition\n",
    "## Yijing Xiao\n",
    "\n",
    "## https://www.kaggle.com/zalando-research/fashionmnist"
   ]
  },
  {
   "cell_type": "markdown",
   "metadata": {},
   "source": [
    "In the last blog post, I implemented an Convolutional Neural Network (CNN) for MNIST digit recognition task. I was surprised by how powerful CNN is on image recognition task. This time, I found another dataset similar to MNIST, named [Fashion MNIST](https://github.com/zalandoresearch/fashion-mnist)"
   ]
  },
  {
   "cell_type": "code",
   "execution_count": 6,
   "metadata": {
    "collapsed": true
   },
   "outputs": [],
   "source": [
    "import numpy as np\n",
    "import pandas as pd\n",
    "%matplotlib inline\n",
    "import matplotlib as mpl\n",
    "import matplotlib.pyplot as plt\n",
    "import matplotlib.cm as cm\n",
    "import torch\n",
    "import torch.nn as nn\n",
    "import torch.nn.functional as F\n",
    "from torch.autograd import Variable"
   ]
  },
  {
   "cell_type": "markdown",
   "metadata": {},
   "source": [
    "- Data preparation"
   ]
  },
  {
   "cell_type": "code",
   "execution_count": 2,
   "metadata": {
    "collapsed": true,
    "scrolled": true
   },
   "outputs": [],
   "source": [
    "data = pd.read_csv(\"fashion-mnist_train.csv\")\n",
    "data.head()\n",
    "image_size = data.iloc[:, 1:].values.shape[1]\n",
    "image_width = image_height = np.ceil(np.sqrt(image_size)).astype(np.uint8)\n",
    "image_width\n",
    "num_data = data.shape[0]\n",
    "num_train_data = int(num_data * 0.9)\n",
    "train_data = data.iloc[:num_train_data]\n",
    "dev_data = data.iloc[num_train_data:]"
   ]
  },
  {
   "cell_type": "markdown",
   "metadata": {},
   "source": [
    "First of all, before we do anything on the dataset, let's plot some images to see how the Fashion MNIST dataset looks like. "
   ]
  },
  {
   "cell_type": "code",
   "execution_count": 3,
   "metadata": {
    "collapsed": true
   },
   "outputs": [],
   "source": [
    "def showImage(image,ax=None):\n",
    "    \"\"\"\n",
    "    Render a given numpy.uint8 2D array of pixel data.\n",
    "    \"\"\"\n",
    "    if len(image.shape) > 1:\n",
    "        n=image.shape[0]\n",
    "    else:\n",
    "        n=int(np.sqrt(image.shape[0]))\n",
    "        image = image[-n**2:]\n",
    "        image = image.reshape(n,n)\n",
    "\n",
    "    if ax==None:\n",
    "        fig = plt.figure()\n",
    "        ax = fig.add_subplot(1,1,1)\n",
    "    imgplot = ax.imshow(image, cmap=mpl.cm.Greys)\n",
    "    imgplot.set_interpolation('nearest')\n",
    "    ax.xaxis.set_ticks_position('top')\n",
    "    ax.yaxis.set_ticks_position('left')\n",
    "    plt.axis('off')"
   ]
  },
  {
   "cell_type": "markdown",
   "metadata": {},
   "source": [
    "Different from MNIST, fashion MNIST are images of fashion products like shoes, clothes, etc. It is fun to classify something more sophisticated than handwritten digits, isn't it? "
   ]
  },
  {
   "cell_type": "code",
   "execution_count": 10,
   "metadata": {},
   "outputs": [
    {
     "data": {
      "image/png": "[encoded data removed]",
      "text/plain": [
       "<matplotlib.figure.Figure at 0x1159a1160>"
      ]
     },
     "metadata": {},
     "output_type": "display_data"
    },
    {
     "data": {
      "image/png": "[encoded data removed]",
      "text/plain": [
       "<matplotlib.figure.Figure at 0x115becbe0>"
      ]
     },
     "metadata": {},
     "output_type": "display_data"
    },
    {
     "data": {
      "image/png": "[encoded data removed]",
      "text/plain": [
       "<matplotlib.figure.Figure at 0x12d368208>"
      ]
     },
     "metadata": {},
     "output_type": "display_data"
    },
    {
     "data": {
      "image/png": "[encoded data removed]",
      "text/plain": [
       "<matplotlib.figure.Figure at 0x115c71a58>"
      ]
     },
     "metadata": {},
     "output_type": "display_data"
    },
    {
     "data": {
      "image/png": "[encoded data removed]",
      "text/plain": [
       "<matplotlib.figure.Figure at 0x115cd3da0>"
      ]
     },
     "metadata": {},
     "output_type": "display_data"
    },
    {
     "data": {
      "image/png": "[encoded data removed]",
      "text/plain": [
       "<matplotlib.figure.Figure at 0x115d4eb00>"
      ]
     },
     "metadata": {},
     "output_type": "display_data"
    },
    {
     "data": {
      "image/png": "[encoded data removed]",
      "text/plain": [
       "<matplotlib.figure.Figure at 0x115dbf518>"
      ]
     },
     "metadata": {},
     "output_type": "display_data"
    },
    {
     "data": {
      "image/png": "[encoded data removed]",
      "text/plain": [
       "<matplotlib.figure.Figure at 0x115df60f0>"
      ]
     },
     "metadata": {},
     "output_type": "display_data"
    },
    {
     "data": {
      "image/png": "[encoded data removed]",
      "text/plain": [
       "<matplotlib.figure.Figure at 0x115ea62b0>"
      ]
     },
     "metadata": {},
     "output_type": "display_data"
    },
    {
     "data": {
      "image/png": "[encoded data removed]",
      "text/plain": [
       "<matplotlib.figure.Figure at 0x115ef7898>"
      ]
     },
     "metadata": {},
     "output_type": "display_data"
    }
   ],
   "source": [
    "for i in range(10):\n",
    "    showImage(train_data.values[i])"
   ]
  },
  {
   "cell_type": "markdown",
   "metadata": {},
   "source": [
    "## Standard Convolutional Neural Network \n",
    "\n",
    "borrowed from https://github.com/pytorch/examples/blob/master/mnist/main.py\n"
   ]
  },
  {
   "cell_type": "markdown",
   "metadata": {},
   "source": [
    "Again, as a first experiment, I would like to try the exact CNN model I used in MNIST classification task. "
   ]
  },
  {
   "cell_type": "code",
   "execution_count": 4,
   "metadata": {
    "collapsed": true
   },
   "outputs": [],
   "source": [
    "BATCH_SIZE = 32\n",
    "def eval(model, data):\n",
    "    '''\n",
    "        args:\n",
    "            data: 42000 * 785 matrix\n",
    "            \n",
    "    '''\n",
    "    model.eval()\n",
    "    correct_count = 0.\n",
    "    total_count = 0.\n",
    "    for i in range(0, data.shape[0], BATCH_SIZE):\n",
    "        batch_data = data.iloc[i:i+BATCH_SIZE, :].values\n",
    "        x = batch_data[:, 1:] # 32 * 784\n",
    "        y = batch_data[:, 0] # 32\n",
    "        x = Variable(torch.from_numpy(x), volatile=True).float()\n",
    "        y = Variable(torch.from_numpy(y), volatile=True)\n",
    "        pred = model(x)\n",
    "        loss = F.nll_loss(pred, y)\n",
    "        correct_count += torch.sum(torch.max(pred, 1)[1] == y).data[0]\n",
    "        total_count += batch_data.shape[0]\n",
    "    return correct_count, total_count\n",
    "        "
   ]
  },
  {
   "cell_type": "code",
   "execution_count": 5,
   "metadata": {
    "collapsed": true
   },
   "outputs": [],
   "source": [
    "# define a neural network, convolutional neural network\n",
    "class Net(nn.Module):\n",
    "    def __init__(self):\n",
    "        super(Net, self).__init__()\n",
    "        self.conv1 = nn.Conv2d(1, 10, kernel_size=5)\n",
    "        self.conv2 = nn.Conv2d(10, 20, kernel_size=5)\n",
    "        self.conv2_drop = nn.Dropout2d()\n",
    "        self.fc1 = nn.Linear(320, 50)\n",
    "        self.fc2 = nn.Linear(50, 10)\n",
    "\n",
    "    def forward(self, x):\n",
    "        x = x.view(x.size(0), 1, int(image_height), int(image_width)) # B * 1 * 28 * 28\n",
    "        x = F.relu(F.max_pool2d(self.conv1(x), 2)) # B * 10 * 12 * 12\n",
    "        x = F.relu(F.max_pool2d(self.conv2_drop(self.conv2(x)), 2)) # B * 20 * 4 * 4\n",
    "        x = x.view(-1, 320) \n",
    "        x = F.relu(self.fc1(x))\n",
    "        x = F.dropout(x, training=self.training)\n",
    "        x = self.fc2(x)\n",
    "        return F.log_softmax(x)\n",
    "\n",
    "# instantiate the model\n",
    "model = Net()"
   ]
  },
  {
   "cell_type": "code",
   "execution_count": 7,
   "metadata": {},
   "outputs": [
    {
     "name": "stdout",
     "output_type": "stream",
     "text": [
      "dev acc: 0.5635\n",
      "save the model\n",
      "dev acc: 0.5233333333333333\n",
      "dev acc: 0.5848333333333333\n",
      "save the model\n",
      "dev acc: 0.569\n",
      "dev acc: 0.6726666666666666\n",
      "save the model\n",
      "dev acc: 0.6953333333333334\n",
      "save the model\n",
      "dev acc: 0.7225\n",
      "save the model\n",
      "dev acc: 0.7158333333333333\n",
      "dev acc: 0.732\n",
      "save the model\n",
      "dev acc: 0.7426666666666667\n",
      "save the model\n",
      "dev acc: 0.7485\n",
      "save the model\n",
      "dev acc: 0.7471666666666666\n",
      "dev acc: 0.7515\n",
      "save the model\n",
      "dev acc: 0.7585\n",
      "save the model\n",
      "dev acc: 0.7606666666666667\n",
      "save the model\n",
      "dev acc: 0.757\n",
      "dev acc: 0.7725\n",
      "save the model\n",
      "dev acc: 0.7723333333333333\n",
      "dev acc: 0.7695\n",
      "dev acc: 0.7785\n",
      "save the model\n"
     ]
    }
   ],
   "source": [
    "learning_rate = 0.005\n",
    "optimizer = torch.optim.Adam(model.parameters(), lr=learning_rate)\n",
    "best_acc = 0.\n",
    "# start training\n",
    "for epoch in range(20):\n",
    "    model.train()\n",
    "    for i in range(0, train_data.shape[0], BATCH_SIZE):\n",
    "        batch_data = train_data.iloc[i:i+BATCH_SIZE, :].values\n",
    "        x = batch_data[:, 1:] # 32 * 784\n",
    "        y = batch_data[:, 0] # 32\n",
    "        x = Variable(torch.from_numpy(x)).float()\n",
    "        y = Variable(torch.from_numpy(y))\n",
    "        pred = model(x)\n",
    "        optimizer.zero_grad()\n",
    "        loss = F.nll_loss(pred, y)\n",
    "        loss.backward()\n",
    "        optimizer.step()\n",
    "    correct_count, total_count = eval(model, dev_data)\n",
    "    acc = correct_count / total_count\n",
    "    print(\"dev acc: {}\".format(acc))\n",
    "    if acc > best_acc:\n",
    "        best_acc = acc\n",
    "        print(\"save the model\")\n",
    "        torch.save(model.state_dict(), \"model.th\")\n",
    "    else:\n",
    "        learning_rate *= 0.8\n",
    "        optimizer = torch.optim.Adam(model.parameters(), lr=learning_rate) "
   ]
  },
  {
   "cell_type": "code",
   "execution_count": 8,
   "metadata": {
    "scrolled": true
   },
   "outputs": [
    {
     "name": "stdout",
     "output_type": "stream",
     "text": [
      "test acc: 0.7734\n"
     ]
    }
   ],
   "source": [
    "model.load_state_dict(torch.load(\"model.th\"))\n",
    "test_data = pd.read_csv(\"fashion-mnist_test.csv\")\n",
    "correct_count, total_count = eval(model, test_data)\n",
    "print(\"test acc: {}\".format(correct_count/total_count))"
   ]
  },
  {
   "cell_type": "markdown",
   "metadata": {},
   "source": [
    "The result seems to be much worse than MNIST classification task, which is reasonable, as this is indeed a more difficult task than digit classification. In next blog post I want to try some methods to improve the recognition accuracy. "
   ]
  }
 ],
 "metadata": {
  "kernelspec": {
   "display_name": "Python 3",
   "language": "python",
   "name": "python3"
  },
  "language_info": {
   "codemirror_mode": {
    "name": "ipython",
    "version": 3
   },
   "file_extension": ".py",
   "mimetype": "text/x-python",
   "name": "python",
   "nbconvert_exporter": "python",
   "pygments_lexer": "ipython3",
   "version": "3.6.1"
  }
 },
 "nbformat": 4,
 "nbformat_minor": 2
}
