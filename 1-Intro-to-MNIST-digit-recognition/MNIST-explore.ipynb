{
 "cells": [
  {
   "cell_type": "markdown",
   "metadata": {},
   "source": [
    "# MNIST digit recognition task\n",
    "## Yijing Xiao\n",
    "\n",
    "## https://www.kaggle.com/c/digit-recognizer"
   ]
  },
  {
   "cell_type": "markdown",
   "metadata": {},
   "source": [
    "I was learning Python and found this interesting task of recognizing images of 10 digits. "
   ]
  },
  {
   "cell_type": "markdown",
   "metadata": {},
   "source": [
    "- import some libraries"
   ]
  },
  {
   "cell_type": "code",
   "execution_count": 8,
   "metadata": {
    "collapsed": true
   },
   "outputs": [],
   "source": [
    "import numpy as np\n",
    "import pandas as pd\n",
    "%matplotlib inline\n",
    "import matplotlib.pyplot as plt\n",
    "import matplotlib.cm as cm\n",
    "from matplotlib import pyplot\n",
    "import matplotlib as mpl"
   ]
  },
  {
   "cell_type": "markdown",
   "metadata": {},
   "source": [
    "- Data preparation\n",
    "\n",
    "First I read csv (comma separated value) data with pandas libaray. The data is of shape N * d, N being the number of instances, and d being the data dimension. The first column is the label of value 0 - 9, corresponding to digits 0 - 9. The remaining 784 values are pixels of an image of size 28 * 28. "
   ]
  },
  {
   "cell_type": "code",
   "execution_count": 20,
   "metadata": {
    "scrolled": false
   },
   "outputs": [
    {
     "data": {
      "text/plain": [
       "28"
      ]
     },
     "execution_count": 20,
     "metadata": {},
     "output_type": "execute_result"
    }
   ],
   "source": [
    "data = pd.read_csv(\"train.csv\")\n",
    "data.head()\n",
    "image_size = data.iloc[:, 1:].values.shape[1]\n",
    "image_width = image_height = np.ceil(np.sqrt(image_size)).astype(np.uint8)\n",
    "image_width"
   ]
  },
  {
   "cell_type": "markdown",
   "metadata": {},
   "source": [
    "The following function renders the image from a 784 dimensional vector. I borrowed this function from somewhere but I forgot the source, sorry for not quoting the source of the code. "
   ]
  },
  {
   "cell_type": "code",
   "execution_count": 16,
   "metadata": {
    "collapsed": true
   },
   "outputs": [],
   "source": [
    "def show_fMNIST_example(image):\n",
    "    image = image[-28**2:]\n",
    "    image = image.reshape(28,28)\n",
    "\n",
    "    fig = pyplot.figure()\n",
    "    ax = fig.add_subplot(1,1,1)\n",
    "    imgplot = ax.imshow(image, cmap=mpl.cm.Greys)\n",
    "    imgplot.set_interpolation('nearest')\n",
    "    ax.xaxis.set_ticks_position('top')\n",
    "    ax.yaxis.set_ticks_position('left')\n",
    "    pyplot.show()"
   ]
  },
  {
   "cell_type": "markdown",
   "metadata": {},
   "source": [
    "I read from some blog saying that normalization can help the training of a model, so here is a simple function to normalize an image. The main idea is to compute the mean and standard deviation of a vector, and then at each dimension of the vector, subtract the mean and divide by the standard deviation. You can see the effect of normalizing the image, the image color becomes smoother among pixels. "
   ]
  },
  {
   "cell_type": "code",
   "execution_count": 21,
   "metadata": {},
   "outputs": [
    {
     "name": "stdout",
     "output_type": "stream",
     "text": [
      "VISUALIZE BEFORE NORMALIZATION\n"
     ]
    },
    {
     "data": {
      "image/png": "[encoded data removed]",
      "text/plain": [
       "<matplotlib.figure.Figure at 0x11a227240>"
      ]
     },
     "metadata": {},
     "output_type": "display_data"
    },
    {
     "name": "stdout",
     "output_type": "stream",
     "text": [
      "VISUALIZE AFTER NORMALIZATION\n"
     ]
    },
    {
     "data": {
      "image/png": "[encoded data removed]",
      "text/plain": [
       "<matplotlib.figure.Figure at 0x11a631b70>"
      ]
     },
     "metadata": {},
     "output_type": "display_data"
    },
    {
     "name": "stdout",
     "output_type": "stream",
     "text": [
      "label: 0\n"
     ]
    }
   ],
   "source": [
    "def get_mu_sig(data):\n",
    "    #Compute training data statistics for Normalization\n",
    "    mu = data.mean(axis=0, keepdims=True)\n",
    "    sig = data.std(axis=0, keepdims=True)\n",
    "    sig[np.equal(sig,0)]=1.0\n",
    "    return mu, sig\n",
    "\n",
    "def normalize_data(X, mu, sig):\n",
    "    return (X-mu)/sig\n",
    "\n",
    "X = data.iloc[:, 1:].values\n",
    "y = data.iloc[:, 1].values\n",
    "print('VISUALIZE BEFORE NORMALIZATION')\n",
    "show_fMNIST_example(X[200, :])\n",
    "mu, sig = get_mu_sig(X)\n",
    "X_normalized = normalize_data(X, mu, sig)\n",
    "print('VISUALIZE AFTER NORMALIZATION')\n",
    "show_fMNIST_example(X_normalized[200, :])\n",
    "print(\"label: {}\".format(y[200]))"
   ]
  }
 ],
 "metadata": {
  "kernelspec": {
   "display_name": "Python 3",
   "language": "python",
   "name": "python3"
  },
  "language_info": {
   "codemirror_mode": {
    "name": "ipython",
    "version": 3
   },
   "file_extension": ".py",
   "mimetype": "text/x-python",
   "name": "python",
   "nbconvert_exporter": "python",
   "pygments_lexer": "ipython3",
   "version": "3.6.1"
  }
 },
 "nbformat": 4,
 "nbformat_minor": 2
}
